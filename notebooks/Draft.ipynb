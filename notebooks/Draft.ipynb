{
 "cells": [
  {
   "cell_type": "markdown",
   "metadata": {},
   "source": [
    "# 1. Setup"
   ]
  },
  {
   "cell_type": "markdown",
   "metadata": {},
   "source": [
    "## 1.1 Importing Libraries"
   ]
  },
  {
   "cell_type": "code",
   "execution_count": 1,
   "metadata": {},
   "outputs": [
    {
     "name": "stderr",
     "output_type": "stream",
     "text": [
      "Failed to detect the name of this notebook, you can set it manually with the WANDB_NOTEBOOK_NAME environment variable to enable code saving.\n",
      "\u001b[34m\u001b[1mwandb\u001b[0m: Currently logged in as: \u001b[33momaremaduldeen\u001b[0m (\u001b[33momaremaduldeen-German International University - GIU\u001b[0m). Use \u001b[1m`wandb login --relogin`\u001b[0m to force relogin\n"
     ]
    },
    {
     "data": {
      "text/plain": [
       "True"
      ]
     },
     "execution_count": 1,
     "metadata": {},
     "output_type": "execute_result"
    }
   ],
   "source": [
    "import wandb\n",
    "wandb.login()"
   ]
  },
  {
   "cell_type": "code",
   "execution_count": null,
   "metadata": {},
   "outputs": [],
   "source": [
    "import torch\n",
    "import torch.nn as nn\n",
    "import torch.nn.functional as F\n",
    "import torch.optim as optim\n",
    "from torch.utils.data import Dataset, DataLoader\n",
    "\n",
    "import os\n",
    "import ast\n",
    "from tqdm import tqdm\n",
    "import random\n",
    "\n",
    "import pandas as pd\n",
    "import numpy as np\n",
    "import plotly.express as px\n",
    "import plotly.figure_factory as ff\n",
    "import umap.umap_ as umap\n",
    "\n",
    "from sklearn.model_selection import train_test_split\n",
    "from sklearn.metrics import f1_score, accuracy_score, precision_score, recall_score, confusion_matrix"
   ]
  },
  {
   "cell_type": "markdown",
   "metadata": {},
   "source": [
    "## 1.2 Hyperparameters & Configuration"
   ]
  },
  {
   "cell_type": "markdown",
   "metadata": {},
   "source": [
    "### Hyperparameters Config"
   ]
  },
  {
   "cell_type": "code",
   "execution_count": null,
   "metadata": {},
   "outputs": [],
   "source": [
    "config = dict(\n",
    "\n",
    "    # Encoder Training\n",
    "    epochs=25,\n",
    "    batch_size=32,\n",
    "    num_workers=1,\n",
    "    learning_rate=0.001,\n",
    "    weight_decay = 1e-4,\n",
    "    temperature = 0.1,\n",
    "    dropout_rate = 0.1,\n",
    "\n",
    "    # Early Stopping\n",
    "    patience = 10,\n",
    "    delta = 0.01,\n",
    "    \n",
    "    # Classification head\n",
    "    mlp_epochs = 10,\n",
    "    projection_dim = 128,\n",
    "    negative_samples_count = 2,\n",
    "    classifier_output_dim = 2,\n",
    "    classifier_hidden_dim = 1024,\n",
    "    classifier_dropout = 0.05,\n",
    "    classifier_learning_rate = 0.001,\n",
    "\n",
    "    # Data\n",
    "    dataset_folder='/Users/mero/Library/Mobile Documents/com~apple~CloudDocs/Documents/Work/Ulm/Datasets/small_set',\n",
    "    dataset_name=\"reframing_dataset.csv\",\n",
    "    text_model=\"all-mpnet-base-v2\",\n",
    "    input_dim = 768,\n",
    "    downloaded = True,\n",
    "    \n",
    "    best_model_path ='models/best_model.pth',\n",
    "    best_mlp_path ='models/best_mlp.pth',\n",
    "    )"
   ]
  },
  {
   "cell_type": "markdown",
   "metadata": {},
   "source": [
    "### Reproducibility & Device"
   ]
  },
  {
   "cell_type": "code",
   "execution_count": null,
   "metadata": {},
   "outputs": [],
   "source": [
    "# Reproducibility\n",
    "torch.use_deterministic_algorithms(True, warn_only=True)\n",
    "torch.manual_seed(42)\n",
    "np.random.seed(42)\n",
    "\n",
    "def seed_worker(worker_id):\n",
    "    worker_seed = torch.initial_seed() % 2**32\n",
    "    np.random.seed(worker_seed)\n",
    "    random.seed(worker_seed)\n",
    "\n",
    "g = torch.Generator()\n",
    "g.manual_seed(42)\n",
    "\n",
    "# Device Specification\n",
    "device = torch.device(\"cuda\" if torch.cuda.is_available() else \"cpu\")\n",
    "print(device)"
   ]
  }
 ],
 "metadata": {
  "kernelspec": {
   "display_name": "uulm",
   "language": "python",
   "name": "python3"
  },
  "language_info": {
   "codemirror_mode": {
    "name": "ipython",
    "version": 3
   },
   "file_extension": ".py",
   "mimetype": "text/x-python",
   "name": "python",
   "nbconvert_exporter": "python",
   "pygments_lexer": "ipython3",
   "version": "3.9.18"
  }
 },
 "nbformat": 4,
 "nbformat_minor": 2
}
